{
 "cells": [
  {
   "cell_type": "markdown",
   "id": "348be930-4660-42c2-beec-826ebcaacc9e",
   "metadata": {},
   "source": [
    "# UK ROAD ACCIDENTS DATA ANALYTICS\n",
    "<hr>\n",
    "<h4> Student:  John Marc De Villa </h4>\n",
    "<h4> Year&Section: BSIT- 3A </h4>\n",
    "\n",
    "<hr>"
   ]
  },
  {
   "cell_type": "code",
   "execution_count": 1,
   "id": "01d958f5-909e-44c0-ac9a-a1952919cfcc",
   "metadata": {},
   "outputs": [],
   "source": [
    "import numpy as np\n",
    "import pandas as pd\n",
    "from scipy.stats import f_oneway\n",
    "import matplotlib.pyplot as plt\n",
    "import warnings\n",
    "warnings.filterwarnings('ignore')"
   ]
  },
  {
   "cell_type": "code",
   "execution_count": 2,
   "id": "3a9c6b77-11ff-4db4-8351-5aad6ef9e1e9",
   "metadata": {},
   "outputs": [],
   "source": [
    "accident = pd.read_csv('dataset//uk_road_accident.csv')"
   ]
  },
  {
   "cell_type": "code",
   "execution_count": 3,
   "id": "88e1462b-9336-4fb1-a6fc-42c0810709f3",
   "metadata": {},
   "outputs": [
    {
     "data": {
      "text/plain": [
       "Index                          0\n",
       "Accident_Severity              0\n",
       "Accident Date                  0\n",
       "Latitude                      25\n",
       "Light_Conditions               0\n",
       "District Area                  0\n",
       "Longitude                     26\n",
       "Number_of_Casualties           0\n",
       "Number_of_Vehicles             0\n",
       "Road_Surface_Conditions      726\n",
       "Road_Type                   4520\n",
       "Urban_or_Rural_Area           15\n",
       "Weather_Conditions         14128\n",
       "Vehicle_Type                   0\n",
       "Accident Year                  0\n",
       "Accident Month                 0\n",
       "Accident Day                   0\n",
       "Accident DayOfWeek             0\n",
       "dtype: int64"
      ]
     },
     "execution_count": 3,
     "metadata": {},
     "output_type": "execute_result"
    }
   ],
   "source": [
    "accident['Accident Date'] = accident['Accident Date'].astype(str)\n",
    "accident['Accident Date'] = accident['Accident Date'].apply(lambda x: x.replace('/', '-') if pd.notnull(x) else x)\n",
    "accident['Accident Date'] = accident['Accident Date'].apply(lambda x: x.strip() if pd.notnull(x) else x)\n",
    "accident['Accident Date'] = pd.to_datetime(accident['Accident Date'], dayfirst=True, errors='coerce')\n",
    "\n",
    "accident.dtypes\n",
    "accident.isnull().sum()\n",
    "\n",
    "accident['Accident Year'] = accident['Accident Date'].dt.year\n",
    "accident['Accident Month'] =  accident['Accident Date'].dt.month_name()\n",
    "accident['Accident Day'] =  accident['Accident Date'].dt.day\n",
    "accident['Accident DayOfWeek'] =  accident['Accident Date'].dt.dayofweek\n",
    "accident.isnull().sum()"
   ]
  },
  {
   "cell_type": "code",
   "execution_count": 4,
   "id": "adadb0ea-34e5-46da-b0e8-ce1dd2c5286a",
   "metadata": {},
   "outputs": [],
   "source": [
    "accident['Index'] = accident['Index'].astype('category')\n",
    "accident['Accident_Severity'] = accident['Accident_Severity'].astype('category')\n",
    "accident['Light_Conditions'] = accident['Light_Conditions'].astype('category')\n",
    "accident['District Area'] = accident['District Area'].astype('category')\n",
    "accident['Road_Surface_Conditions'] = accident['Road_Surface_Conditions'].astype('category')\n",
    "accident['Road_Type'] = accident['Road_Type'].astype('category')\n",
    "accident['Urban_or_Rural_Area'] = accident['Urban_or_Rural_Area'].astype('category')\n",
    "accident['Vehicle_Type'] = accident['Vehicle_Type'].astype('category')\n",
    "accident['Accident Year'] = accident['Accident Year'].astype('category')\n",
    "accident['Accident DayOfWeek'] = accident['Accident DayOfWeek'].astype('category')\n",
    "accident['Accident Month'] = accident['Accident Month'].astype('category')\n"
   ]
  },
  {
   "cell_type": "code",
   "execution_count": 5,
   "id": "24550ca4-e705-473d-9160-96069e10bfa2",
   "metadata": {},
   "outputs": [
    {
     "data": {
      "text/plain": [
       "Index                      0\n",
       "Accident_Severity          0\n",
       "Accident Date              0\n",
       "Latitude                   0\n",
       "Light_Conditions           0\n",
       "District Area              0\n",
       "Longitude                  0\n",
       "Number_of_Casualties       0\n",
       "Number_of_Vehicles         0\n",
       "Road_Surface_Conditions    0\n",
       "Road_Type                  0\n",
       "Urban_or_Rural_Area        0\n",
       "Weather_Conditions         0\n",
       "Vehicle_Type               0\n",
       "Accident Year              0\n",
       "Accident Month             0\n",
       "Accident Day               0\n",
       "Accident DayOfWeek         0\n",
       "dtype: int64"
      ]
     },
     "execution_count": 5,
     "metadata": {},
     "output_type": "execute_result"
    }
   ],
   "source": [
    "accident['Latitude'] = accident['Latitude'].fillna(accident['Latitude'].mode()[0])\n",
    "accident['Longitude'] = accident['Longitude'].fillna(accident['Longitude'].mode()[0])\n",
    "accident['Road_Surface_Conditions'] = accident['Road_Surface_Conditions'].fillna(accident['Road_Surface_Conditions'].mode()[0])\n",
    "accident['Urban_or_Rural_Area'] = accident['Urban_or_Rural_Area'].fillna(accident['Urban_or_Rural_Area'].mode()[0])\n",
    "accident['Road_Type'] = accident['Road_Type'].fillna(accident['Road_Type'].mode()[0])\n",
    "accident['Weather_Conditions'] = accident['Weather_Conditions'].fillna('Unknown')\n",
    "\n",
    "accident.isnull().sum()"
   ]
  },
  {
   "cell_type": "markdown",
   "id": "c55f2385-ce36-4ef1-8afc-2420b40d4c52",
   "metadata": {},
   "source": [
    "<h1>Questions🤔 & Insights💡</h1>\n",
    "<hr>\n",
    "<ol>\n",
    "    <li>What is the most common accident severity recorded</li>\n",
    "    <li>What is the proportion of accidents in urban versus rural areas?</li>\n",
    "    <li>Which district reported the highest number of accidents?</li>\n",
    "    <li>Does the number of casualties correlate more strongly with road conditions or with weather conditions?</li>\n",
    "    <li>What is the most common accident severity recorded (slight, serious, or fatal)?</li>\n",
    "    <li>Under which light conditions (daylight, darkness, streetlights) do most accidents occur?</li>\n",
    "    <li>Which weather condition is linked to the highest number of accidents?</li>\n",
    "    <li>What is the correlation between the number of vehicles involved and the number of casualties?</li>\n",
    "    <li>Do certain vehicle types (cars, motorcycles, trucks, buses) show higher involvement in severe accidents?</li>\n",
    "    <li>Are accidents more common in urban areas or rural areas?</li>\n",
    "    <li>Does accident severity correlate with light conditions?</li>\n",
    "    <li>What is the average number of vehicles involved per accident?</li>\n",
    "    <li>Which month had the highest number of accidents?</li>\n",
    "    <li>Does poor road surface condition lead to a higher number of casualties?</li>\n",
    "    <li>How does accident severity vary across different years?</li>\n",
    "    <li>Do more accidents happen during daytime or nighttime hours?</li>\n",
    "    <li>How does the number of casualties change with accident severity?</li>\n",
    "    <li>Is there a relationship between accident severity and weather conditions?</li>\n",
    "    <li>Which road type (e.g., single carriageway, dual carriageway, roundabout) has the highest accident frequency?</li>\n",
    "</ol>"
   ]
  },
  {
   "cell_type": "markdown",
   "id": "fec392b7-bda4-4e30-8b46-051ae261a483",
   "metadata": {},
   "source": [
    "<ol>\n",
    "    <h3><li>What is the most common accident severity recorded?</li></h3>\n",
    "</ol>"
   ]
  },
  {
   "cell_type": "code",
   "execution_count": 6,
   "id": "6960410e-cd1a-4d44-87aa-2cbc19ca282d",
   "metadata": {},
   "outputs": [
    {
     "data": {
      "text/plain": [
       "0    Slight\n",
       "Name: Accident_Severity, dtype: category\n",
       "Categories (3, object): ['Fatal', 'Serious', 'Slight']"
      ]
     },
     "execution_count": 6,
     "metadata": {},
     "output_type": "execute_result"
    }
   ],
   "source": [
    "accident['Accident_Severity'].mode()"
   ]
  },
  {
   "cell_type": "markdown",
   "id": "792353ba-b438-4238-af2b-6138b43ba1fe",
   "metadata": {},
   "source": [
    "## Insight 💡\n",
    "<ol>\n",
    "    <h4><em><li>Based on the given dataset, the most common accident severity recorded is <b>Slight.</b> </em></h4>\n",
    "    </li>\n",
    "</ol>\n",
    "<hr>"
   ]
  },
  {
   "cell_type": "markdown",
   "id": "d7abd25d-7852-4a89-9428-f9f0adbf1b5f",
   "metadata": {},
   "source": [
    "### 2. What is the proportion of accidents in urban versus rural areas?"
   ]
  },
  {
   "cell_type": "code",
   "execution_count": 7,
   "id": "97348ec6-0c8b-4697-a056-1e51c7e64a0a",
   "metadata": {},
   "outputs": [
    {
     "data": {
      "image/png": "[encoded data removed]",
      "text/plain": [
       "<Figure size 640x480 with 1 Axes>"
      ]
     },
     "metadata": {},
     "output_type": "display_data"
    }
   ],
   "source": [
    "area_counts = accident['Urban_or_Rural_Area'].value_counts()\n",
    "\n",
    "plt.pie(area_counts,\n",
    "        labels=area_counts.index,   \n",
    "        autopct='%1.1f%%',\n",
    "        colors=['skyblue', 'orange'])     \n",
    "\n",
    "plt.show()"
   ]
  },
  {
   "cell_type": "markdown",
   "id": "db7b5a1c-e857-469c-908e-a9536b21911e",
   "metadata": {},
   "source": [
    "## Insight 💡\n",
    "\n",
    "<ol start=\"2\">\n",
    "    <h4> <li> <em> About <b>421,678 accidents (63.8%) </b>occurred in urban areas compared to<b> 239,001 accidents (36.2%) </b>in rural areas, indicating that accidents are more concentrated in cities than in rural locations.</em></h4>\n",
    "    </li>\n",
    "</ol>\n",
    "<hr>"
   ]
  },
  {
   "cell_type": "markdown",
   "id": "de10de1a-b023-43ab-bf12-73bf38c20d9b",
   "metadata": {},
   "source": [
    "\n",
    "<ol start=\"3\">\n",
    "    <h3><li> Which vehicle types were most frequently involved in accidents in Urban areas?</h3>\n",
    "    </li>\n",
    "</ol>"
   ]
  },
  {
   "cell_type": "code",
   "execution_count": 12,
   "id": "65685c7a-ca3f-46ff-99d6-f03e430ca0dc",
   "metadata": {},
   "outputs": [
    {
     "data": {
      "text/html": [
       "<div>\n",
       "<style scoped>\n",
       "    .dataframe tbody tr th:only-of-type {\n",
       "        vertical-align: middle;\n",
       "    }\n",
       "\n",
       "    .dataframe tbody tr th {\n",
       "        vertical-align: top;\n",
       "    }\n",
       "\n",
       "    .dataframe thead th {\n",
       "        text-align: right;\n",
       "    }\n",
       "</style>\n",
       "<table border=\"1\" class=\"dataframe\">\n",
       "  <thead>\n",
       "    <tr style=\"text-align: right;\">\n",
       "      <th>Urban_or_Rural_Area</th>\n",
       "      <th>Rural</th>\n",
       "      <th>Unallocated</th>\n",
       "      <th>Urban</th>\n",
       "    </tr>\n",
       "    <tr>\n",
       "      <th>Vehicle_Type</th>\n",
       "      <th></th>\n",
       "      <th></th>\n",
       "      <th></th>\n",
       "    </tr>\n",
       "  </thead>\n",
       "  <tbody>\n",
       "    <tr>\n",
       "      <th>Agricultural vehicle</th>\n",
       "      <td>675</td>\n",
       "      <td>0</td>\n",
       "      <td>1272</td>\n",
       "    </tr>\n",
       "    <tr>\n",
       "      <th>Bus or coach (17 or more pass seats)</th>\n",
       "      <td>9025</td>\n",
       "      <td>2</td>\n",
       "      <td>16851</td>\n",
       "    </tr>\n",
       "    <tr>\n",
       "      <th>Car</th>\n",
       "      <td>181922</td>\n",
       "      <td>8</td>\n",
       "      <td>316062</td>\n",
       "    </tr>\n",
       "    <tr>\n",
       "      <th>Data missing or out of range</th>\n",
       "      <td>0</td>\n",
       "      <td>0</td>\n",
       "      <td>6</td>\n",
       "    </tr>\n",
       "    <tr>\n",
       "      <th>Goods 7.5 tonnes mgw and over</th>\n",
       "      <td>6156</td>\n",
       "      <td>0</td>\n",
       "      <td>11151</td>\n",
       "    </tr>\n",
       "    <tr>\n",
       "      <th>Goods over 3.5t. and under 7.5t</th>\n",
       "      <td>2232</td>\n",
       "      <td>0</td>\n",
       "      <td>3864</td>\n",
       "    </tr>\n",
       "    <tr>\n",
       "      <th>Minibus (8 - 16 passenger seats)</th>\n",
       "      <td>718</td>\n",
       "      <td>0</td>\n",
       "      <td>1258</td>\n",
       "    </tr>\n",
       "    <tr>\n",
       "      <th>Motorcycle 125cc and under</th>\n",
       "      <td>5023</td>\n",
       "      <td>0</td>\n",
       "      <td>10246</td>\n",
       "    </tr>\n",
       "    <tr>\n",
       "      <th>Motorcycle 50cc and under</th>\n",
       "      <td>2710</td>\n",
       "      <td>0</td>\n",
       "      <td>4893</td>\n",
       "    </tr>\n",
       "    <tr>\n",
       "      <th>Motorcycle over 125cc and up to 500cc</th>\n",
       "      <td>2674</td>\n",
       "      <td>0</td>\n",
       "      <td>4982</td>\n",
       "    </tr>\n",
       "    <tr>\n",
       "      <th>Motorcycle over 500cc</th>\n",
       "      <td>8957</td>\n",
       "      <td>0</td>\n",
       "      <td>16700</td>\n",
       "    </tr>\n",
       "    <tr>\n",
       "      <th>Other vehicle</th>\n",
       "      <td>1994</td>\n",
       "      <td>0</td>\n",
       "      <td>3643</td>\n",
       "    </tr>\n",
       "    <tr>\n",
       "      <th>Pedal cycle</th>\n",
       "      <td>70</td>\n",
       "      <td>0</td>\n",
       "      <td>127</td>\n",
       "    </tr>\n",
       "    <tr>\n",
       "      <th>Ridden horse</th>\n",
       "      <td>1</td>\n",
       "      <td>0</td>\n",
       "      <td>3</td>\n",
       "    </tr>\n",
       "    <tr>\n",
       "      <th>Taxi/Private hire car</th>\n",
       "      <td>4677</td>\n",
       "      <td>0</td>\n",
       "      <td>8617</td>\n",
       "    </tr>\n",
       "    <tr>\n",
       "      <th>Van / Goods 3.5 tonnes mgw or under</th>\n",
       "      <td>12156</td>\n",
       "      <td>1</td>\n",
       "      <td>22003</td>\n",
       "    </tr>\n",
       "  </tbody>\n",
       "</table>\n",
       "</div>"
      ],
      "text/plain": [
       "Urban_or_Rural_Area                     Rural  Unallocated   Urban\n",
       "Vehicle_Type                                                      \n",
       "Agricultural vehicle                      675            0    1272\n",
       "Bus or coach (17 or more pass seats)     9025            2   16851\n",
       "Car                                    181922            8  316062\n",
       "Data missing or out of range                0            0       6\n",
       "Goods 7.5 tonnes mgw and over            6156            0   11151\n",
       "Goods over 3.5t. and under 7.5t          2232            0    3864\n",
       "Minibus (8 - 16 passenger seats)          718            0    1258\n",
       "Motorcycle 125cc and under               5023            0   10246\n",
       "Motorcycle 50cc and under                2710            0    4893\n",
       "Motorcycle over 125cc and up to 500cc    2674            0    4982\n",
       "Motorcycle over 500cc                    8957            0   16700\n",
       "Other vehicle                            1994            0    3643\n",
       "Pedal cycle                                70            0     127\n",
       "Ridden horse                                1            0       3\n",
       "Taxi/Private hire car                    4677            0    8617\n",
       "Van / Goods 3.5 tonnes mgw or under     12156            1   22003"
      ]
     },
     "execution_count": 12,
     "metadata": {},
     "output_type": "execute_result"
    }
   ],
   "source": [
    "Area_1 = accident.groupby(['Urban_or_Rural_Area','Vehicle_Type']).size().unstack(level=0)\n",
    "Area_1"
   ]
  },
  {
   "cell_type": "markdown",
   "id": "5c8277c3-1f6d-4233-ad1c-3528a060d12e",
   "metadata": {},
   "source": [
    "## Insight 💡\n",
    "\n",
    "<ol start = 3>\n",
    "    <li> <h4><em>The most frequently involved type of vehicle in urban accidents is <b>the car, with 316,062</b> recorded cases.</em></h4>\n",
    "    </li>\n",
    "    <li> <h4><em>Very few accidents involve <b>Ridden horses (1 rural, 3 urban) or Pedal cycles (70 rural, 127 urban) </b>compared to motor vehicles, highlighting that non-motorized transport contributes minimally to recorded accidents.</em></h4>\n",
    "    </li>\n",
    "    <li> <h4><em>Very few accidents involve <b>Ridden horses (1 rural, 3 urban) or Pedal cycles (70 rural, 127 urban) </b>compared to motor vehicles, highlighting that non-motorized transport contributes minimally to recorded accidents.</em></h4>\n",
    "    </li>\n",
    "</ul>\n",
    "<br>    \n",
    "<hr>"
   ]
  },
  {
   "cell_type": "markdown",
   "id": "9ec27073-38b8-4908-b368-0c6e435c7706",
   "metadata": {},
   "source": [
    "\n",
    "<ol start=\"4\">\n",
    "    <h3><li> What is total number of accidents were slight, serious, and fatal?</h3>\n",
    "    </li>\n",
    "</ol>"
   ]
  },
  {
   "cell_type": "code",
   "execution_count": 9,
   "id": "b04f3833-d76b-4409-bf64-ca7471acc178",
   "metadata": {},
   "outputs": [
    {
     "data": {
      "text/plain": [
       "Accident_Severity\n",
       "Fatal        8661\n",
       "Serious     88217\n",
       "Slight     563801\n",
       "dtype: int64"
      ]
     },
     "execution_count": 9,
     "metadata": {},
     "output_type": "execute_result"
    }
   ],
   "source": [
    "Ac_Sev = accident.groupby(['Accident_Severity']).size()\n",
    "Ac_Sev"
   ]
  },
  {
   "cell_type": "markdown",
   "id": "23bc5a0d-6bb3-4035-8006-1a8a6706f92e",
   "metadata": {},
   "source": [
    "## Insight 💡\n",
    "\n",
    "<ol start=\"6\">\n",
    "    <li><h4><em>The majority of accidents are <b>Slight (563,801 cases)</b>, showing that most incidents result in minor damage or injury.</em></h4>\n",
    "    </li>\n",
    "    <li><h4><em>Serious accidents account for <b>88,217 cases</b>, which is still significant and highlights notable road safety concerns.</em></h4>\n",
    "    </li>\n",
    "    <li><h4><em>Fatal accidents are the <b>least common at 8,661 cases</b>, indicating that while deaths are rare compared to slight accidents, they still represent a critical safety issue.</em></h4>\n",
    "</li>\n",
    "</ol>\n",
    "<hr>"
   ]
  },
  {
   "cell_type": "markdown",
   "id": "00e64e35-e08d-417d-a5cd-8d9b6892d3e3",
   "metadata": {},
   "source": [
    "\n",
    "<ol start=\"5\">\n",
    "    <h3><li> Under which light conditions (daylight, darkness, streetlights) do most accidents occur in urban areas?</h3>\n",
    "    </li>\n",
    "</ol>"
   ]
  },
  {
   "cell_type": "code",
   "execution_count": 10,
   "id": "ad6f1729-2076-45ca-8114-4c38f11ffbce",
   "metadata": {},
   "outputs": [
    {
     "data": {
      "text/plain": [
       "Light_Conditions\n",
       "Daylight                       309521\n",
       "Darkness - lights lit          104638\n",
       "Darkness - lighting unknown      4017\n",
       "Darkness - no lighting           1920\n",
       "Darkness - lights unlit          1582\n",
       "Name: count, dtype: int64"
      ]
     },
     "execution_count": 10,
     "metadata": {},
     "output_type": "execute_result"
    }
   ],
   "source": [
    "accident[accident['Urban_or_Rural_Area'] == 'Urban']['Light_Conditions'].value_counts()"
   ]
  },
  {
   "cell_type": "markdown",
   "id": "407d0e50-0ce1-4908-8797-1fece24f0fe7",
   "metadata": {},
   "source": [
    "## Insight 💡\n",
    "\n",
    "<ul>\n",
    "    <li><h4><em>Based on the dataset, in Urban Areas, </em></h4>\n",
    "    </li>\n",
    "</ul>\n",
    "<ol start = 9>\n",
    "    <li><h4><em>Most accidents happen in <b>daylight (309,521 cases)</b> because more vehicles and people are on the road during the day.</em></h4></li>\n",
    "    <li><h4><em>The second highest is in <b>darkness with streetlights (104,638 cases)</b>, showing that even with lights, accidents are still common at night.</em></h4></li>\n",
    "    <ul>\n",
    "        <br>\n",
    "        <li><h4><em>This means that in urban areas, accidents mostly occur in well-lit conditions (daytime or streetlights), not just in dark places.</em></h4></li>\n",
    "    </ul>\n",
    "    \n",
    "</ol>\n",
    "<hr>"
   ]
  },
  {
   "cell_type": "markdown",
   "id": "1f836551-4f0d-4161-b048-182ece2edee7",
   "metadata": {},
   "source": [
    "\n",
    "<ol start=\"6\">\n",
    "    <h3><li> Which district, in urban areas, reported the highest number of accidents?</h3>\n",
    "    </li>\n",
    "</ol>"
   ]
  },
  {
   "cell_type": "markdown",
   "id": "db16278c-f7fe-446c-9f50-baac9cdd1164",
   "metadata": {},
   "source": []
  }
 ],
 "metadata": {
  "kernelspec": {
   "display_name": "Python 3 (ipykernel)",
   "language": "python",
   "name": "python3"
  },
  "language_info": {
   "codemirror_mode": {
    "name": "ipython",
    "version": 3
   },
   "file_extension": ".py",
   "mimetype": "text/x-python",
   "name": "python",
   "nbconvert_exporter": "python",
   "pygments_lexer": "ipython3",
   "version": "3.12.5"
  }
 },
 "nbformat": 4,
 "nbformat_minor": 5
}
